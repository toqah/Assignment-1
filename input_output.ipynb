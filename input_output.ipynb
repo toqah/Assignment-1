{
  "cells": [
    {
      "cell_type": "markdown",
      "metadata": {
        "id": "view-in-github",
        "colab_type": "text"
      },
      "source": [
        "<a href=\"https://colab.research.google.com/github/toqah/Assignment-1/blob/main/input_output.ipynb\" target=\"_parent\"><img src=\"https://colab.research.google.com/assets/colab-badge.svg\" alt=\"Open In Colab\"/></a>"
      ]
    },
    {
      "cell_type": "code",
      "execution_count": null,
      "id": "5cd71fa6",
      "metadata": {
        "colab": {
          "base_uri": "https://localhost:8080/",
          "height": 54
        },
        "id": "5cd71fa6",
        "outputId": "834cb0d5-14b5-471f-f1c9-a8defddda7be"
      },
      "outputs": [
        {
          "output_type": "stream",
          "name": "stdout",
          "text": [
            "Hello world\n"
          ]
        },
        {
          "output_type": "execute_result",
          "data": {
            "text/plain": [
              "'\\nThis is a \\nmulti line \\ncomment\\n'"
            ],
            "application/vnd.google.colaboratory.intrinsic+json": {
              "type": "string"
            }
          },
          "metadata": {},
          "execution_count": 1
        }
      ],
      "source": [
        "# comments\n",
        "print('Hello world') ### This is a one line comment\n",
        "\n",
        "\n",
        "'''\n",
        "This is a \n",
        "multi line \n",
        "comment\n",
        "'''"
      ]
    },
    {
      "cell_type": "code",
      "execution_count": null,
      "id": "a83ebaf0",
      "metadata": {
        "colab": {
          "base_uri": "https://localhost:8080/"
        },
        "id": "a83ebaf0",
        "outputId": "ca4a8603-563f-433b-d92e-8796a19ee6f1"
      },
      "outputs": [
        {
          "output_type": "stream",
          "name": "stdout",
          "text": [
            "answer is true\n",
            "hello world\n",
            "end of statement\n"
          ]
        }
      ],
      "source": [
        "# indentation\n",
        "if True:\n",
        "    print('answer is true')\n",
        "    print('hello world')\n",
        "else:\n",
        "    print('answer is false')\n",
        "print('end of statement')\n",
        "\n"
      ]
    },
    {
      "cell_type": "code",
      "execution_count": null,
      "id": "d621577b",
      "metadata": {
        "colab": {
          "base_uri": "https://localhost:8080/"
        },
        "id": "d621577b",
        "outputId": "e321a238-ac32-46a7-ed24-c7223d8c3a5f"
      },
      "outputs": [
        {
          "output_type": "stream",
          "name": "stdout",
          "text": [
            "Welcome to AI course\n"
          ]
        }
      ],
      "source": [
        "# input and output\n",
        "\n",
        "print('Welcome to AI course')\n"
      ]
    },
    {
      "cell_type": "code",
      "execution_count": null,
      "id": "20fa4388",
      "metadata": {
        "colab": {
          "base_uri": "https://localhost:8080/"
        },
        "id": "20fa4388",
        "outputId": "f956f594-7a54-49a0-d8d1-e6821870ad60"
      },
      "outputs": [
        {
          "output_type": "stream",
          "name": "stdout",
          "text": [
            "5 10 hello test\n"
          ]
        }
      ],
      "source": [
        "print(5, 10, 'hello', 'test')"
      ]
    },
    {
      "cell_type": "code",
      "execution_count": null,
      "id": "ef42ca7b",
      "metadata": {
        "colab": {
          "base_uri": "https://localhost:8080/"
        },
        "id": "ef42ca7b",
        "outputId": "03d8310a-83bc-42f3-f328-96f1d4a9555a"
      },
      "outputs": [
        {
          "name": "stdout",
          "output_type": "stream",
          "text": [
            "What's your name?Toqa Hamdy\n"
          ]
        }
      ],
      "source": [
        "n= input \n",
        "n=input('What\\'s your name?')"
      ]
    },
    {
      "cell_type": "code",
      "execution_count": null,
      "id": "2896446c",
      "metadata": {
        "colab": {
          "base_uri": "https://localhost:8080/"
        },
        "id": "2896446c",
        "outputId": "b7600b26-6903-412f-c237-bc9636b16207"
      },
      "outputs": [
        {
          "output_type": "stream",
          "name": "stdout",
          "text": [
            "test\n",
            "1 10 test\n"
          ]
        }
      ],
      "source": [
        "# Variables\n",
        "\n",
        "a = 1\n",
        "a = 10\n",
        "a = 'test'\n",
        "\n",
        "print(a)\n",
        "\n",
        "a, b, c = 1, 10, 'test'\n",
        "print(a,b,c)"
      ]
    },
    {
      "cell_type": "code",
      "execution_count": null,
      "id": "ea4f77ce",
      "metadata": {
        "colab": {
          "base_uri": "https://localhost:8080/"
        },
        "id": "ea4f77ce",
        "outputId": "87d92219-0a09-44fa-c074-830fc1784843"
      },
      "outputs": [
        {
          "output_type": "stream",
          "name": "stdout",
          "text": [
            "<class 'int'>\n",
            "<class 'float'>\n",
            "<class 'str'>\n",
            "<class 'bool'>\n",
            "<class 'list'>\n",
            "<class 'list'>\n"
          ]
        }
      ],
      "source": [
        "number_1 = 1\n",
        "number_2 = 1.7\n",
        "name = 'Abdullah'\n",
        "name_2 = \"Nasser\"\n",
        "val = True\n",
        "arr0 = [0,1,2,3]\n",
        "arr1 = ['a', 'b', 'c']\n",
        "\n",
        "print(type(number_1))\n",
        "print(type(number_2))\n",
        "print(type(name))\n",
        "print(type(val))\n",
        "print(type(arr0))\n",
        "print(type(arr1))"
      ]
    },
    {
      "cell_type": "code",
      "execution_count": null,
      "id": "4afe30c0",
      "metadata": {
        "colab": {
          "base_uri": "https://localhost:8080/"
        },
        "id": "4afe30c0",
        "outputId": "dd0aca3b-8101-4011-c436-cd136e16f730"
      },
      "outputs": [
        {
          "output_type": "stream",
          "name": "stdout",
          "text": [
            "<class 'int'>\n",
            "<class 'float'>\n",
            "6.5\n",
            "4\n",
            "5\n",
            "4.0\n",
            "4\n",
            "4.0\n",
            "<class 'float'>\n",
            "0.75\n",
            "<class 'float'>\n"
          ]
        }
      ],
      "source": [
        "### Data types: ints and floats\n",
        "\n",
        "print(type(3))\n",
        "\n",
        "print(type(3.0))\n",
        "\n",
        "print(4 + 2.5)\n",
        "\n",
        "print(int(4.0))\n",
        "\n",
        "print(int(5.7))\n",
        "\n",
        "print(float(4))\n",
        "\n",
        "print(int(8/2))\n",
        "\n",
        "print(16/4)\n",
        "print(type(16/4))\n",
        "\n",
        "print(3/4)\n",
        "print(type(3/4))"
      ]
    },
    {
      "cell_type": "code",
      "execution_count": null,
      "id": "48d7ffa5",
      "metadata": {
        "id": "48d7ffa5"
      },
      "outputs": [],
      "source": [
        "#invalid \n",
        "#6toqa=toqa\n",
        "#print(6toqa)"
      ]
    },
    {
      "cell_type": "code",
      "execution_count": null,
      "id": "136c2bf8",
      "metadata": {
        "colab": {
          "base_uri": "https://localhost:8080/"
        },
        "id": "136c2bf8",
        "outputId": "aea59db6-ae9a-48a7-cb9c-1d27bd9e1919"
      },
      "outputs": [
        {
          "output_type": "stream",
          "name": "stdout",
          "text": [
            "<class 'bool'>\n",
            "False\n"
          ]
        }
      ],
      "source": [
        "###Data types: bool\n",
        "\n",
        "correct = True\n",
        "incorrect = False\n",
        "\n",
        "print(type(correct))        \n",
        "\n",
        "b = 40 > 50\n",
        "print(b)                \n"
      ]
    }
  ],
  "metadata": {
    "kernelspec": {
      "display_name": "Python 3 (ipykernel)",
      "language": "python",
      "name": "python3"
    },
    "language_info": {
      "codemirror_mode": {
        "name": "ipython",
        "version": 3
      },
      "file_extension": ".py",
      "mimetype": "text/x-python",
      "name": "python",
      "nbconvert_exporter": "python",
      "pygments_lexer": "ipython3",
      "version": "3.9.7"
    },
    "colab": {
      "provenance": [],
      "include_colab_link": true
    }
  },
  "nbformat": 4,
  "nbformat_minor": 5
}